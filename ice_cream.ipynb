{
 "cells": [
  {
   "cell_type": "code",
   "execution_count": 5,
   "metadata": {},
   "outputs": [],
   "source": [
    "import pulp\n",
    "from pulp import *\n",
    "import numpy as np\n",
    "import pandas as pd\n",
    "import math"
   ]
  },
  {
   "cell_type": "markdown",
   "metadata": {},
   "source": [
    "## Single machine problem"
   ]
  },
  {
   "cell_type": "code",
   "execution_count": 41,
   "metadata": {},
   "outputs": [],
   "source": [
    "batches = list(range(10))\n",
    "quantities = {'Vanilla':4,\n",
    "              'Coffee': 1,\n",
    "              'Chocolate Chip': 2,\n",
    "              'Massachusetts Mud': 3}\n",
    "flavors = list(quantities.keys())\n",
    "\n",
    "A_array = np.array([[1,0,1,0],\n",
    "                    [0,1,0,1],\n",
    "                    [0,0,1,0],\n",
    "                    [0,0,0,1]])\n",
    "A = pd.DataFrame({}, columns = flavors)\n",
    "for r in range(A_array.shape[0]):\n",
    "    A.loc[len(A.index)] = A_array[r]\n",
    "A.index = flavors"
   ]
  },
  {
   "cell_type": "code",
   "execution_count": 43,
   "metadata": {},
   "outputs": [],
   "source": [
    "# Initialize model\n",
    "model = LpProblem('Minimize Single Machine Cleaning', sense= LpMinimize)\n",
    "\n",
    "# Define decision variables\n",
    "# Flavor indicator\n",
    "x = LpVariable.dicts('x_', [(i,t) for i in flavors for t in batches], lowBound=None, upBound=None, cat='Binary')\n",
    "# Cleaning indicator\n",
    "y = LpVariable.dicts('y_', batches, lowBound=None, upBound=None, cat='Binary')\n",
    "\n",
    "# Define objective value\n",
    "model += lpSum([y[t] for t in batches])\n",
    "\n",
    "\n",
    "# Define constraints\n",
    "# At most one flavor at a time\n",
    "for t in batches:\n",
    "    model += lpSum([x[(i, t)] for i in flavors]) <= 1\n",
    "    \n",
    "# Fill order quantities\n",
    "for i in flavors:\n",
    "    model += lpSum([x[(i, t)] for t in batches]) >= quantities[i]\n",
    "\n",
    "# Clean machine if needed\n",
    "for i in flavors:\n",
    "    for t in batches[1:]:\n",
    "        model += lpSum([A.loc[i,j]*x[(j,t)] for j in flavors]) + y[t] >= x[i,t-1] "
   ]
  },
  {
   "cell_type": "code",
   "execution_count": 44,
   "metadata": {},
   "outputs": [
    {
     "name": "stdout",
     "output_type": "stream",
     "text": [
      "Status: Optimal\n",
      "\n",
      "Batch #1: Vanilla\n",
      "Batch #2: Vanilla\n",
      "Batch #3: Vanilla\n",
      "Batch #4: Vanilla\n",
      "Batch #5: Chocolate Chip\n",
      "Batch #6: Chocolate Chip\n",
      "Batch #7: Coffee\n",
      "Batch #8: Massachusetts Mud\n",
      "Batch #9: Massachusetts Mud\n",
      "Batch #10: Massachusetts Mud\n",
      "\n",
      "Cleaning count: 1.0\n",
      "Cleaning times: [0.0, 0.0, 0.0, 0.0, 0.0, 0.0, 1.0, 0.0, 0.0, 0.0]\n"
     ]
    }
   ],
   "source": [
    "model.solve()\n",
    "print('Status:', LpStatus[model.status])\n",
    "print()\n",
    "\n",
    "for t in batches:\n",
    "    flavor_idx = [x[(i,t)].varValue for i in flavors].index(1.0)\n",
    "    print('Batch #{}: {}'.format(t+1, flavors[flavor_idx]))\n",
    "\n",
    "print()\n",
    "print('Cleaning count: {}'.format(value(model.objective)))\n",
    "print('Cleaning times:', [y[(t)].varValue for t in batches])\n"
   ]
  },
  {
   "cell_type": "markdown",
   "metadata": {},
   "source": [
    "## Multi-machine problem"
   ]
  },
  {
   "cell_type": "code",
   "execution_count": 92,
   "metadata": {},
   "outputs": [],
   "source": [
    "machines = list(range(2))\n",
    "quantities = {'Vanilla':4,\n",
    "              'Coffee': 3,\n",
    "              'Chocolate Chip': 5,\n",
    "              'Massachusetts Mud': 3}\n",
    "flavors = list(quantities.keys())\n",
    "\n",
    "batches_needed = math.ceil((sum(quantities.values())/len(machines)))\n",
    "batches = list(range(int(batches_needed)))\n",
    "\n",
    "A_array = np.array([[1,1,1,1],\n",
    "                    [0,1,0,1],\n",
    "                    [0,0,1,0],\n",
    "                    [0,0,0,1]])\n",
    "A = pd.DataFrame({}, columns = flavors)\n",
    "for r in range(A_array.shape[0]):\n",
    "    A.loc[len(A.index)] = A_array[r]\n",
    "A.index = flavors\n"
   ]
  },
  {
   "cell_type": "code",
   "execution_count": 105,
   "metadata": {},
   "outputs": [],
   "source": [
    "# Initialize model\n",
    "model = LpProblem('Minimize Single Machine Cleaning', sense= LpMinimize)\n",
    "\n",
    "# Define decision variables\n",
    "# Flavor indicator\n",
    "x = LpVariable.dicts('x_', [(i,m,t) for i in flavors for m in machines for t in batches], lowBound=None, upBound=None, cat='Binary')\n",
    "# Cleaning indicator\n",
    "y = LpVariable.dicts('y_', [(m,t) for m in machines for t in batches], lowBound=None, upBound=None, cat='Binary')\n",
    "# Flavor count for a machine\n",
    "z = LpVariable.dicts('z_', machines, lowBound=0, upBound=None, cat='Integer')\n",
    "\n",
    "# Define objective value\n",
    "model += lpSum([y[m,t] for m in machines for t in batches]) + lpSum([z[m] for m in machines])\n",
    "\n",
    "# Define constraints\n",
    "# At most one flavor at a time\n",
    "for t in batches:\n",
    "    for m in machines:\n",
    "        model += lpSum([x[(i, m, t)] for i in flavors]) <= 1\n",
    "    \n",
    "# Fill order quantities\n",
    "for i in flavors:\n",
    "    model += lpSum([x[(i, m, t)] for m in machines for t in batches]) == quantities[i]\n",
    "\n",
    "# Clean machine if needed\n",
    "for i in flavors:\n",
    "    for m in machines:\n",
    "        for t in batches[1:]:\n",
    "            model += lpSum([A.loc[i,j]*x[(j,m,t)] for j in flavors]) + y[m,t] >= x[i,m,t-1]\n",
    "\n",
    "# Count of flavors per machine\n",
    "for m in machines:\n",
    "    model += lpSum([x[(i, m, t)] for i in flavors for t in batches]) == z[m]\n",
    "    "
   ]
  },
  {
   "cell_type": "code",
   "execution_count": 109,
   "metadata": {},
   "outputs": [
    {
     "name": "stdout",
     "output_type": "stream",
     "text": [
      "Status: Optimal\n",
      "\n",
      "MACHINE 1\n",
      "Cleaning count: 0.0\n",
      "--> Batch #1: Vanilla\n",
      "--> Batch #2: Coffee\n",
      "--> Batch #3: Coffee\n",
      "--> Batch #4: Coffee\n",
      "--> Batch #5: Massachusetts Mud\n",
      "--> Batch #6: Massachusetts Mud\n",
      "--> Batch #7: Massachusetts Mud\n",
      "\n",
      "MACHINE 2\n",
      "Cleaning count: 0.0\n",
      "--> Batch #1: Vanilla\n",
      "--> Batch #2: Vanilla\n",
      "--> Batch #3: Vanilla\n",
      "--> Batch #4: Chocolate Chip\n",
      "--> Batch #5: Chocolate Chip\n",
      "--> Batch #6: Chocolate Chip\n",
      "--> Batch #7: Chocolate Chip\n",
      "--> Batch #8: Chocolate Chip\n",
      "\n",
      "Total cleaning count: 0.0\n"
     ]
    }
   ],
   "source": [
    "model.solve()\n",
    "print('Status:', LpStatus[model.status])\n",
    "for m in machines:\n",
    "    print('\\nMACHINE {}'.format(m+1))\n",
    "    print('Cleaning count:', sum([y[(m,t)].varValue for t in batches]))\n",
    "    spot = 1\n",
    "    for t in batches:\n",
    "        if y[(m,t)].varValue == 1.0:\n",
    "            print('--> CLEAN MACHINE')\n",
    "        try:\n",
    "            flavor_idx = [x[(i,m,t)].varValue for i in flavors].index(1.0)\n",
    "            print('--> Batch #{}: {}'.format(spot, flavors[flavor_idx]))\n",
    "            spot += 1\n",
    "        except ValueError:\n",
    "            pass\n",
    "            #print('--> Batch #{}: None'.format(t+1))\n",
    "\n",
    "print('\\nTotal cleaning count: {}'.format(sum([y[(m,t)].varValue for m in machines for t in batches])))\n",
    "#print('Objective value: {}'.format(value(model.objective)))"
   ]
  }
 ],
 "metadata": {
  "kernelspec": {
   "display_name": "Python 3",
   "language": "python",
   "name": "python3"
  },
  "language_info": {
   "codemirror_mode": {
    "name": "ipython",
    "version": 3
   },
   "file_extension": ".py",
   "mimetype": "text/x-python",
   "name": "python",
   "nbconvert_exporter": "python",
   "pygments_lexer": "ipython3",
   "version": "3.7.6"
  }
 },
 "nbformat": 4,
 "nbformat_minor": 4
}
